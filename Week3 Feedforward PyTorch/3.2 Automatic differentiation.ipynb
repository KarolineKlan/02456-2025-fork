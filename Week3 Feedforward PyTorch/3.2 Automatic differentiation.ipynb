{
  "cells": [
    {
      "cell_type": "markdown",
      "metadata": {
        "id": "VH7e6EQdZdDx"
      },
      "source": [
        "# Credits\n",
        "\n",
        "This is heavily influenced or copied from https://github.com/pytorch/tutorials"
      ]
    },
    {
      "cell_type": "markdown",
      "metadata": {
        "id": "iS9US2iEZdDx"
      },
      "source": [
        "# Autograd: automatic differentiation\n",
        "\n",
        "Central to all neural networks in PyTorch is the ``autograd`` package.\n",
        "Let’s first briefly visit this, and we will then go to training our first neural network.\n",
        "\n",
        "The `autograd` package provides automatic differentiation for all operations on Tensors.\n",
        "It is a define-by-run framework, which means that your backprop is defined by how your code is run, and that every single iteration can be different.\n",
        "\n",
        "Let us see this in more simple terms with some examples."
      ]
    },
    {
      "cell_type": "markdown",
      "metadata": {
        "id": "UdGw1ytEZdDy"
      },
      "source": [
        "## 1. Tensor\n",
        "\n",
        "`torch.Tensor` is the central class of the package. Setting the attribute `.requires_grad` to `True` will make the tensor \"record\" all operations on it. When you finish your computation you can call `.backward()` and have all the gradients computed automatically. The gradient for this tensor will be accumulated into the `.grad` attribute.\n",
        "\n",
        "![autograd.Variable](https://github.com/KarolineKlan/02456-2025-fork/blob/solving_exercises/static_files/autograd-variable.png?raw=1)\n",
        "\n",
        "There’s one more class which is very important for autograd implementation - a `Function`.\n",
        "\n",
        "`Tensor` and `Function` are interconnected and build up an acyclic graph, that encodes a complete history of computation. Each tensor has a `.grad_fn` attribute that references a `Function` that has created the `Tensor` (except for Tensors created by the user - their `grad_fn` is `None`).\n",
        "\n",
        "If you want to compute the derivatives, you can call `.backward()` on a Tensor. If `Tensor` is a scalar (i.e. it holds a one element data), you don’t need to specify any arguments to backward(), however if it has more elements, you need to specify a `gradient` argument that is a tensor of matching shape."
      ]
    },
    {
      "cell_type": "code",
      "execution_count": 1,
      "metadata": {
        "id": "ghyS-AgQZdDy"
      },
      "outputs": [],
      "source": [
        "import torch"
      ]
    },
    {
      "cell_type": "markdown",
      "metadata": {
        "id": "ZunWKVSWZdDy"
      },
      "source": [
        "Create a tensor"
      ]
    },
    {
      "cell_type": "code",
      "execution_count": 2,
      "metadata": {
        "id": "SFVvRKdAZdDy",
        "outputId": "69414cda-3480-4fe9-e5f7-570b5b3604da",
        "colab": {
          "base_uri": "https://localhost:8080/"
        }
      },
      "outputs": [
        {
          "output_type": "stream",
          "name": "stdout",
          "text": [
            "tensor([[1., 1.],\n",
            "        [1., 1.]], requires_grad=True)\n"
          ]
        }
      ],
      "source": [
        "x = torch.ones(2, 2, requires_grad=True)\n",
        "print(x)"
      ]
    },
    {
      "cell_type": "markdown",
      "metadata": {
        "id": "d3nKjQYCZdDy"
      },
      "source": [
        "Do a tensor operation:"
      ]
    },
    {
      "cell_type": "code",
      "execution_count": 3,
      "metadata": {
        "id": "TJkzReC2ZdDy",
        "outputId": "679ac811-4e37-4686-d10e-1ad893123d05",
        "colab": {
          "base_uri": "https://localhost:8080/"
        }
      },
      "outputs": [
        {
          "output_type": "stream",
          "name": "stdout",
          "text": [
            "tensor([[3., 3.],\n",
            "        [3., 3.]], grad_fn=<AddBackward0>)\n"
          ]
        }
      ],
      "source": [
        "y = x + 2\n",
        "print(y)"
      ]
    },
    {
      "cell_type": "markdown",
      "metadata": {
        "id": "65R1LljjZdDy"
      },
      "source": [
        "`y` was created as a result of an operation, so it has a `grad_fn`."
      ]
    },
    {
      "cell_type": "code",
      "execution_count": 4,
      "metadata": {
        "id": "6Pg4-OtwZdDy",
        "outputId": "f8c29ff4-e296-4843-d1b5-68a7d124c6f4",
        "colab": {
          "base_uri": "https://localhost:8080/"
        }
      },
      "outputs": [
        {
          "output_type": "stream",
          "name": "stdout",
          "text": [
            "<AddBackward0 object at 0x7f7da4613f40>\n"
          ]
        }
      ],
      "source": [
        "print(y.grad_fn)"
      ]
    },
    {
      "cell_type": "markdown",
      "metadata": {
        "id": "b_k4kaNtZdDy"
      },
      "source": [
        "Do more operations on y"
      ]
    },
    {
      "cell_type": "code",
      "execution_count": 5,
      "metadata": {
        "id": "61bBNOy4ZdDy",
        "outputId": "a749750b-065d-4442-f3e4-f947228f9529",
        "colab": {
          "base_uri": "https://localhost:8080/"
        }
      },
      "outputs": [
        {
          "output_type": "stream",
          "name": "stdout",
          "text": [
            "tensor([[27., 27.],\n",
            "        [27., 27.]], grad_fn=<MulBackward0>)\n",
            "tensor(27., grad_fn=<MeanBackward0>)\n"
          ]
        }
      ],
      "source": [
        "z = y * y * 3\n",
        "out = z.mean()\n",
        "\n",
        "print(z)\n",
        "print(out)"
      ]
    },
    {
      "cell_type": "markdown",
      "metadata": {
        "id": "9ng8HiJLZdDy"
      },
      "source": [
        "# Assignments\n",
        "\n",
        "1. Create a Tensor that `requires_grad` of size (5, 5)\n",
        "2. Sum the values in the Tensor"
      ]
    },
    {
      "cell_type": "code",
      "source": [
        "a = torch.torch.ones(5, 5, requires_grad=True)\n",
        "\n",
        "s = a.sum()\n",
        "\n",
        "print(s)\n",
        "print(s.grad_fn)"
      ],
      "metadata": {
        "id": "8TnYuanec91J",
        "outputId": "9264b7a2-65db-4215-ad41-00b6651999ee",
        "colab": {
          "base_uri": "https://localhost:8080/"
        }
      },
      "execution_count": 8,
      "outputs": [
        {
          "output_type": "stream",
          "name": "stdout",
          "text": [
            "tensor(25., grad_fn=<SumBackward0>)\n",
            "<SumBackward0 object at 0x7f7da05a7730>\n"
          ]
        }
      ]
    },
    {
      "cell_type": "markdown",
      "metadata": {
        "id": "pECAm4HOZdDy"
      },
      "source": [
        "## 2. Gradients\n",
        "\n",
        "Let’s backprop now. Because `out` contains a single scalar, `out.backward()` is equivalent to `out.backward(torch.tensor([1.0]))`"
      ]
    },
    {
      "cell_type": "code",
      "execution_count": 9,
      "metadata": {
        "id": "BaRdAn5bZdDz"
      },
      "outputs": [],
      "source": [
        "out.backward()"
      ]
    },
    {
      "cell_type": "markdown",
      "metadata": {
        "id": "CxhughvEZdDz"
      },
      "source": [
        "Print gradients d(out)/dx"
      ]
    },
    {
      "cell_type": "code",
      "execution_count": 10,
      "metadata": {
        "id": "exqett7fZdDz",
        "outputId": "2d25c660-c89a-49e2-af9e-c6a46baf1b0b",
        "colab": {
          "base_uri": "https://localhost:8080/"
        }
      },
      "outputs": [
        {
          "output_type": "stream",
          "name": "stdout",
          "text": [
            "tensor([[4.5000, 4.5000],\n",
            "        [4.5000, 4.5000]])\n"
          ]
        }
      ],
      "source": [
        "print(x.grad)"
      ]
    },
    {
      "cell_type": "markdown",
      "metadata": {
        "id": "A0yG6NpSZdDz"
      },
      "source": [
        "You should have a matrix of `4.5`. Let’s denote the tensor `out` with $o$.\n",
        "\n",
        "We have:\n",
        "$o = \\frac{1}{4}\\sum_i z_i$, $z_i = 3(x_i+2)^2$ and $z_i\\bigr\\rvert_{x_i=1} = 27$.\n",
        "\n",
        "Therefore, $\\frac{\\partial o}{\\partial x_i} = \\frac{3}{2}(x_i+2)$,\n",
        "hence $\\frac{\\partial o}{\\partial x_i}\\bigr\\rvert_{x_i=1} = \\frac{9}{2} = 4.5$.\n",
        "\n",
        "You can do many crazy things with autograd!"
      ]
    },
    {
      "cell_type": "code",
      "execution_count": 11,
      "metadata": {
        "id": "nQJ1IZBoZdDz",
        "outputId": "d282e624-4fbc-472e-a478-1a1c52bfc9dd",
        "colab": {
          "base_uri": "https://localhost:8080/"
        }
      },
      "outputs": [
        {
          "output_type": "stream",
          "name": "stdout",
          "text": [
            "tensor([ 855.5588, -537.7573, -337.9314], grad_fn=<MulBackward0>)\n"
          ]
        }
      ],
      "source": [
        "x = torch.randn(3, requires_grad=True)\n",
        "\n",
        "y = x * 2\n",
        "while y.data.norm() < 1000:\n",
        "    y = y * 2\n",
        "\n",
        "print(y)"
      ]
    },
    {
      "cell_type": "code",
      "execution_count": 12,
      "metadata": {
        "id": "DeK9q2WKZdDz",
        "outputId": "a9dab6bb-b3f7-4f10-f27b-7762fac16d77",
        "colab": {
          "base_uri": "https://localhost:8080/"
        }
      },
      "outputs": [
        {
          "output_type": "stream",
          "name": "stdout",
          "text": [
            "tensor([1.0240e+02, 1.0240e+03, 1.0240e-01])\n"
          ]
        }
      ],
      "source": [
        "gradients = torch.FloatTensor([0.1, 1.0, 0.0001])\n",
        "y.backward(gradients)\n",
        "\n",
        "print(x.grad)"
      ]
    },
    {
      "cell_type": "markdown",
      "metadata": {
        "id": "pdeg93rIZdDz"
      },
      "source": [
        "**Read later** \\\n",
        "*Documentation* \\\n",
        "`Tensor`: https://pytorch.org/docs/stable/tensors.html \\\n",
        "`Function`: http://pytorch.org/docs/autograd"
      ]
    },
    {
      "cell_type": "markdown",
      "metadata": {
        "id": "2KrNQQ6LZdDz"
      },
      "source": [
        "# Assignments\n",
        "\n",
        "1. Define a tensor and set `requires_grad` to `True`\n",
        "3. Multiply the tensor by 2 and assign the result to a new python variable (i.e. `x = result`)\n",
        "4. Sum the variable's elements and assign to a new python variable\n",
        "5. Print the gradients of all the variables\n",
        "6. Now perform a backward pass on the last variable (NOTE: for each new python variable that you define, call `.retain_grad()`)\n",
        "7. Print all gradients again\n",
        "  - what did you notice?"
      ]
    },
    {
      "cell_type": "code",
      "source": [
        "import torch\n",
        "\n",
        "# 1) Define a tensor with gradients\n",
        "a = torch.tensor([1.0, -2.0, 3.0], requires_grad=True)\n",
        "\n",
        "# 3) Multiply by 2 -> new Python var\n",
        "x = a * 2\n",
        "x.retain_grad()  # keep grad on this non-leaf\n",
        "\n",
        "# 4) Sum elements -> new Python var\n",
        "s = x.sum()\n",
        "s.retain_grad()  # keep grad on this non-leaf scalar\n",
        "\n",
        "# 5) Print grads BEFORE backward\n",
        "print(\"Before backward:\")\n",
        "print(\"a.grad:\", a.grad)  # leaf -> None (not computed yet)\n",
        "print(\"x.grad:\", x.grad)  # non-leaf -> None (not computed yet)\n",
        "print(\"s.grad:\", s.grad)  # non-leaf -> None (not computed yet)\n",
        "\n",
        "# 6) Backward on the last variable\n",
        "s.backward()\n",
        "\n",
        "# 7) Print grads AFTER backward\n",
        "print(\"\\nAfter backward:\")\n",
        "print(\"a.grad:\", a.grad)  # ==> tensor([2., 2., 2.])\n",
        "print(\"x.grad:\", x.grad)  # ==> tensor([1., 1., 1.])  (thanks to retain_grad())\n",
        "print(\"s.grad:\", s.grad)  # ==> tensor(1.)            (thanks to retain_grad())\n"
      ],
      "metadata": {
        "id": "mIB0aBe9eSdG",
        "outputId": "add96247-76c4-4468-c395-dbb181d4b693",
        "colab": {
          "base_uri": "https://localhost:8080/"
        }
      },
      "execution_count": 24,
      "outputs": [
        {
          "output_type": "stream",
          "name": "stdout",
          "text": [
            "Before backward:\n",
            "a.grad: None\n",
            "x.grad: None\n",
            "s.grad: None\n",
            "\n",
            "After backward:\n",
            "a.grad: tensor([2., 2., 2.])\n",
            "x.grad: tensor([1., 1., 1.])\n",
            "s.grad: tensor(1.)\n"
          ]
        }
      ]
    },
    {
      "cell_type": "markdown",
      "source": [
        "After backward():\n",
        "\n",
        "The leaf tensor a gets its gradient by default: since s = sum(2*a), ∂s/∂a = 2, so a.grad == [2, 2, 2].\n",
        "\n",
        "The intermediate tensors x and s only have .grad populated because we called .retain_grad() on them. Without retain_grad(), their .grad would stay None.\n",
        "\n",
        "x.grad is a vector of ones because s = sum(x) ⇒ ∂s/∂x = 1.\n",
        "\n",
        "s.grad is 1 (a scalar), i.e., ∂s/∂s.\n",
        "\n",
        "(If you were to call s.backward() again without clearing, a.grad would accumulate more gradients—use a.grad.zero_() or optimizer.zero_grad() between passes.)"
      ],
      "metadata": {
        "id": "JaoiQca0gomC"
      }
    }
  ],
  "metadata": {
    "kernelspec": {
      "display_name": "Python 3 (ipykernel)",
      "language": "python",
      "name": "python3"
    },
    "language_info": {
      "codemirror_mode": {
        "name": "ipython",
        "version": 3
      },
      "file_extension": ".py",
      "mimetype": "text/x-python",
      "name": "python",
      "nbconvert_exporter": "python",
      "pygments_lexer": "ipython3",
      "version": "3.8.12"
    },
    "colab": {
      "provenance": []
    }
  },
  "nbformat": 4,
  "nbformat_minor": 0
}